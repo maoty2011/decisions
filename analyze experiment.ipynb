{
 "cells": [
  {
   "cell_type": "code",
   "execution_count": 1,
   "metadata": {
    "collapsed": false
   },
   "outputs": [],
   "source": [
    "import pandas as pd\n",
    "import numpy as np\n",
    "import matplotlib.pyplot as plt\n",
    "import json\n",
    "from datetime import datetime, timedelta\n",
    "\n",
    "from population import Population\n",
    "\n",
    "%matplotlib inline"
   ]
  },
  {
   "cell_type": "code",
   "execution_count": 2,
   "metadata": {
    "collapsed": false
   },
   "outputs": [],
   "source": [
    "population_file_name = 'data/population.json'\n",
    "population = Population.from_json(population_file_name)"
   ]
  },
  {
   "cell_type": "code",
   "execution_count": 3,
   "metadata": {
    "collapsed": false
   },
   "outputs": [
    {
     "name": "stdout",
     "output_type": "stream",
     "text": [
      "1000\n"
     ]
    }
   ],
   "source": [
    "print len(population.people)"
   ]
  },
  {
   "cell_type": "code",
   "execution_count": 4,
   "metadata": {
    "collapsed": false
   },
   "outputs": [
    {
     "data": {
      "image/png": "[encoded data removed]",
      "text/plain": [
       "<matplotlib.figure.Figure at 0xa1ba2e8>"
      ]
     },
     "metadata": {},
     "output_type": "display_data"
    }
   ],
   "source": [
    "dt_fmt = '%Y%m%d'\n",
    "now = datetime.strptime('20170718', dt_fmt)\n",
    "\n",
    "ages = list()\n",
    "for person in population.people.values():\n",
    "    if person.dob is not None:\n",
    "        age = now - datetime.strptime(person.dob, dt_fmt)\n",
    "        if age.days/365.25 < 100:\n",
    "            ages.append(age.days/365.25)\n",
    "\n",
    "plt.hist(ages, bins=40, normed=True, alpha=0.2);"
   ]
  },
  {
   "cell_type": "code",
   "execution_count": 6,
   "metadata": {
    "collapsed": false
   },
   "outputs": [],
   "source": [
    "stats = dict([(person_id, {'group': 'control',\n",
    "                           'viewed': 0,\n",
    "                           'trx': 0,\n",
    "                           'spend': 0.00}) for person_id in population.people])\n",
    "\n",
    "transcript_file_name = 'data/transcript.json'\n",
    "with open(transcript_file_name, 'r') as transcript_file:\n",
    "    for line_number, line in enumerate(transcript_file):\n",
    "        text = line.strip()\n",
    "        if text != '':\n",
    "            record = json.loads(text)\n",
    "        \n",
    "        if record['event'] == 'offer received':\n",
    "            stats[record['person']]['group'] = 'target'\n",
    "        \n",
    "        if record['event'] == 'offer viewed':\n",
    "            stats[record['person']]['viewed'] += 1\n",
    "        \n",
    "        if record['event'] == 'transaction':\n",
    "            stats[record['person']]['trx'] += 1\n",
    "            stats[record['person']]['spend'] += record['value']['amount']"
   ]
  },
  {
   "cell_type": "code",
   "execution_count": 7,
   "metadata": {
    "collapsed": false
   },
   "outputs": [
    {
     "data": {
      "image/png": "[encoded data removed]",
      "text/plain": [
       "<matplotlib.figure.Figure at 0xa980080>"
      ]
     },
     "metadata": {},
     "output_type": "display_data"
    },
    {
     "data": {
      "image/png": "[encoded data removed]",
      "text/plain": [
       "<matplotlib.figure.Figure at 0xa980048>"
      ]
     },
     "metadata": {},
     "output_type": "display_data"
    },
    {
     "data": {
      "image/png": "[encoded data removed]",
      "text/plain": [
       "<matplotlib.figure.Figure at 0xafda7b8>"
      ]
     },
     "metadata": {},
     "output_type": "display_data"
    }
   ],
   "source": [
    "group_stats = {'target': {'viewed': list(), 'trx': list(), 'spend': list()},\n",
    "               'control': {'viewed': list(), 'trx': list(), 'spend': list()}}\n",
    "\n",
    "for val in stats.values():\n",
    "    group = val['group']\n",
    "    for field in ['viewed', 'trx', 'spend']:\n",
    "        group_stats[group][field].append(val[field])\n",
    "\n",
    "plt.hist(group_stats['target']['viewed'], bins=40, normed=True, alpha=0.2);\n",
    "plt.hist(group_stats['control']['viewed'], bins=40, normed=True, alpha=0.2);\n",
    "plt.show()\n",
    "\n",
    "plt.hist(group_stats['target']['trx'], bins=40, normed=True, alpha=0.2);\n",
    "plt.hist(group_stats['control']['trx'], bins=40, normed=True, alpha=0.2);\n",
    "plt.show()\n",
    "\n",
    "plt.hist(group_stats['target']['spend'], bins=range(0, 120, 2), normed=True, alpha=0.2);\n",
    "plt.hist(group_stats['control']['spend'], bins=range(0, 120, 2), normed=True, alpha=0.2);\n",
    "plt.show()"
   ]
  }
 ],
 "metadata": {
  "kernelspec": {
   "display_name": "Python [conda_venv]",
   "language": "python",
   "name": "Python [conda_venv]"
  },
  "language_info": {
   "codemirror_mode": {
    "name": "ipython",
    "version": 2.0
   },
   "file_extension": ".py",
   "mimetype": "text/x-python",
   "name": "python",
   "nbconvert_exporter": "python",
   "pygments_lexer": "ipython2",
   "version": "2.7.12"
  }
 },
 "nbformat": 4,
 "nbformat_minor": 0
}