{
 "cells": [
  {
   "cell_type": "code",
   "execution_count": 1,
   "metadata": {
    "collapsed": true
   },
   "outputs": [],
   "source": [
    "import logging\n",
    "\n",
    "log_file_name = 'decision.log'\n",
    "log_mode='w'\n",
    "log_level = logging.DEBUG\n",
    "log_delimiter = ' | '\n",
    "log_fields = ('asctime', 'module', 'funcName', 'name', 'levelname', 'message')\n",
    "\n",
    "logger = logging.getLogger()\n",
    "fhandler = logging.FileHandler(filename=log_file_name, mode=log_mode)\n",
    "formatter = logging.Formatter(log_delimiter.join(map(lambda f: '%({})s'.format(f), log_fields)))\n",
    "fhandler.setFormatter(formatter)\n",
    "logger.addHandler(fhandler)\n",
    "logger.setLevel(log_level)"
   ]
  },
  {
   "cell_type": "code",
   "execution_count": 2,
   "metadata": {
    "collapsed": false
   },
   "outputs": [],
   "source": [
    "import pandas as pd\n",
    "import numpy as np\n",
    "import matplotlib.pyplot as plt\n",
    "\n",
    "%matplotlib inline"
   ]
  },
  {
   "cell_type": "code",
   "execution_count": 27,
   "metadata": {
    "collapsed": true
   },
   "outputs": [],
   "source": [
    "def print_log(log_file_name, log_fields=None, log_filter=None, log_delimiter='|'):\n",
    "    if log_fields is None:\n",
    "        filter_field, filter_value = None, None\n",
    "        filter_field_index = None\n",
    "    else:        \n",
    "        header = dict([(field, index) for index, field in enumerate(log_fields)])\n",
    "\n",
    "        if log_filter is None:\n",
    "            filter_field, filter_value = None, None\n",
    "        elif len(log_filter) == 2:\n",
    "            filter_field, filter_value = log_filter\n",
    "            filter_field_index = header.get(filter_field, None)\n",
    "            if filter_field_index is None:\n",
    "                message = 'WARNING - filter_field ({}) not found in field names: {}'.format(filter_field, header.keys())\n",
    "                logging.warning(message)\n",
    "        else:\n",
    "            raise ValueError('ERROR - log_filter must have the format (filter_field, filter_value), but received: {}'.format(log_filter))\n",
    "        \n",
    "    with open(log_file_name, 'r') as log_file:\n",
    "        for line_number, line in enumerate(log_file):        \n",
    "\n",
    "            try:\n",
    "                data = line.strip().split(log_delimiter.strip())\n",
    "                if filter_field_index is None:\n",
    "                    print_line = True\n",
    "                elif len(data) != len(header):\n",
    "                    print_line = False\n",
    "                elif data[filter_field_index].strip().lower() == filter_value.strip().lower():\n",
    "                    print_line = True\n",
    "                else:\n",
    "                    print_line = False\n",
    "\n",
    "                if print_line:\n",
    "                    print line.strip()\n",
    "            except:\n",
    "                print '({})>>>{}<<<'.format(line_number, line.strip())\n",
    "                raise\n",
    "                    \n",
    "                    "
   ]
  },
  {
   "cell_type": "code",
   "execution_count": 4,
   "metadata": {
    "collapsed": true
   },
   "outputs": [],
   "source": [
    "from person import Person\n",
    "from externalities import World, Categorical, Offer"
   ]
  },
  {
   "cell_type": "code",
   "execution_count": 5,
   "metadata": {
    "collapsed": false
   },
   "outputs": [
    {
     "name": "stdout",
     "output_type": "stream",
     "text": [
      "('asctime', 'module', 'funcName', 'name', 'levelname', 'message')\n"
     ]
    }
   ],
   "source": [
    "print log_fields\n",
    "print_log(log_file_name, log_fields, ('funcName', '__init__'))"
   ]
  },
  {
   "cell_type": "code",
   "execution_count": 6,
   "metadata": {
    "collapsed": false
   },
   "outputs": [
    {
     "name": "stdout",
     "output_type": "stream",
     "text": [
      "2017-07-17 08:05:02,823 | externalities | __init__ | root | INFO | World initialized\n"
     ]
    }
   ],
   "source": [
    "world = World()\n",
    "print_log(log_file_name)"
   ]
  },
  {
   "cell_type": "code",
   "execution_count": 7,
   "metadata": {
    "collapsed": false
   },
   "outputs": [
    {
     "name": "stdout",
     "output_type": "stream",
     "text": [
      "timestamp: int between 0 and 999999999\n",
      "valid_from: int between 0 and 999999999\n",
      "valid_to: int between 0 and 999999999\n",
      "difficulty: positive numeric\n",
      "reward: positive numeric\n",
      "channel: Categorical(['web' 'email' 'mobile' 'social'])\n",
      "type: Categorical(['bogo' 'discount' 'informational'])\n"
     ]
    }
   ],
   "source": [
    "Offer.print_help()"
   ]
  },
  {
   "cell_type": "code",
   "execution_count": 8,
   "metadata": {
    "collapsed": false
   },
   "outputs": [],
   "source": [
    "offer_channel = Categorical(('web', 'email', 'mobile', 'social'), (1, 1, 1, 1))\n",
    "offer_type = Categorical(('bogo', 'discount', 'informational'), (0, 1, 0))\n",
    "\n",
    "discount = Offer(0, valid_from=10, valid_until=20, difficulty=10, reward=2, channel=offer_channel, type=offer_type)"
   ]
  },
  {
   "cell_type": "code",
   "execution_count": 9,
   "metadata": {
    "collapsed": false
   },
   "outputs": [
    {
     "name": "stdout",
     "output_type": "stream",
     "text": [
      "id: uuid.uuid4() (set automatically)\n",
      "dob: 'YYYYMMDD'\n",
      "gender: ['M', 'F', 'O']\n",
      "became_member_on: 'YYYYMMDD'\n",
      "income: positive numeric\n",
      "taste: Categorical(['sweet','sour','salty','bitter','umami'])\n",
      "marketing_segment: Categorical(['front page','local','entertainment','sports','opinion','comics'])\n",
      "\n",
      "last_transaction: Transaction\n",
      "last_unviewed_offer: Offer\n",
      "last_viewed_offer: Offer\n",
      "history: list of Offers and Transactions sorted by Event timestamps\n",
      "\n",
      "view_offer_sensitivity: Categorical(['background','offer_age','web','email','mobile','social'])\n",
      "make_purchase_sensitivity: Categorical(['background','time_since_last_transaction','last_viewed_offer_strength','viewed_active_offer'])\n",
      "purchase_amount_sensitivity: Categorical(['background','income_adjusted_purchase_sensitivity','front page','local','entertainment','sports','opinion','comics','sweet','sour','salty','bitter','umami'])\n"
     ]
    }
   ],
   "source": [
    "Person.print_help()"
   ]
  },
  {
   "cell_type": "code",
   "execution_count": 10,
   "metadata": {
    "collapsed": false
   },
   "outputs": [],
   "source": [
    "person_taste = Categorical(['sweet','sour','salty','bitter','umami'],\n",
    "                           [1,1,0,0,0])\n",
    "\n",
    "person_marketing_segment = Categorical(['front page','local','entertainment','sports','opinion','comics'],\n",
    "                                       [1, 1, 0, 0, 0, 1])\n",
    "\n",
    "person_view_offer_sensitivity = Categorical(['background', 'offer_age','web','email','mobile', 'social'],\n",
    "                                            [0, -1, 1, 1, 1, 1])\n",
    "\n",
    "person_make_purchase_sensitivity = Categorical(['background', 'time_since_last_transaction','time_since_last_viewed_offer','viewed_active_offer','web','email','mobile'])\n",
    "person_purchase_amount_sensitivity = Categorical(['background','income_adjusted_purchase_sensitivity','front page','local','entertainment','sports','opinion','comics','sweet','sour','salty','bitter','umami'])\n",
    "\n",
    "person = Person(became_member_on='20170716', view_offer_sensitivity=person_view_offer_sensitivity)\n",
    "person.last_unviewed_offer = discount"
   ]
  },
  {
   "cell_type": "code",
   "execution_count": 11,
   "metadata": {
    "collapsed": false
   },
   "outputs": [
    {
     "data": {
      "text/plain": [
       "{'difficulty': 10,\n",
       " 'reward': 2,\n",
       " 'timestamp': 0,\n",
       " 'valid_from': 10,\n",
       " 'valid_until': 20}"
      ]
     },
     "execution_count": 11,
     "metadata": {},
     "output_type": "execute_result"
    }
   ],
   "source": [
    "discount.__dict__"
   ]
  },
  {
   "cell_type": "code",
   "execution_count": 12,
   "metadata": {
    "collapsed": false
   },
   "outputs": [
    {
     "data": {
      "text/plain": [
       "{'became_member_on': '20170716',\n",
       " 'dob': '19010101',\n",
       " 'gender': None,\n",
       " 'history': [],\n",
       " 'id': UUID('d6da795b-4eb1-468a-9d53-e13f8aef0f15'),\n",
       " 'income': None,\n",
       " 'last_transaction': None,\n",
       " 'last_unviewed_offer': <externalities.Offer at 0x98e4080>,\n",
       " 'last_viewed_offer': None,\n",
       " 'make_purchase_sensitivity': <externalities.Categorical at 0x98e4eb8>,\n",
       " 'marketing_segment': <externalities.Categorical at 0x98e4e10>,\n",
       " 'purchase_amount_sensitivity': <externalities.Categorical at 0x98e4f60>,\n",
       " 'taste': <externalities.Categorical at 0x98e4da0>,\n",
       " 'view_offer_sensitivity': <externalities.Categorical at 0x3f615f8>}"
      ]
     },
     "execution_count": 12,
     "metadata": {},
     "output_type": "execute_result"
    }
   ],
   "source": [
    "person.__dict__"
   ]
  },
  {
   "cell_type": "code",
   "execution_count": 13,
   "metadata": {
    "collapsed": true
   },
   "outputs": [],
   "source": [
    "def g(x):\n",
    "    return 1.0/(1.0 + np.exp(-x))\n",
    "\n",
    "def g_inv(y):\n",
    "    return np.log(y/(1.0-y))"
   ]
  },
  {
   "cell_type": "code",
   "execution_count": 14,
   "metadata": {
    "collapsed": false
   },
   "outputs": [
    {
     "data": {
      "text/plain": [
       "-0.0063821109029647081"
      ]
     },
     "execution_count": 14,
     "metadata": {},
     "output_type": "execute_result"
    }
   ],
   "source": [
    "g_inv(0.01)/float(1*24*30)"
   ]
  },
  {
   "cell_type": "code",
   "execution_count": 15,
   "metadata": {
    "collapsed": false
   },
   "outputs": [
    {
     "name": "stdout",
     "output_type": "stream",
     "text": [
      "-5 0.0112933590378\n",
      "-4 0.0294396632155\n",
      "-3 0.0717770488446\n",
      "-2 0.149738499348\n",
      "-1 0.23105857863\n",
      "0 0.23105857863\n",
      "1 0.149738499348\n",
      "2 0.0717770488446\n",
      "3 0.0294396632155\n",
      "4 0.0112933590378\n"
     ]
    }
   ],
   "source": [
    "for i in range(-5,5):\n",
    "    print i, g(i+1) - g(i)"
   ]
  },
  {
   "cell_type": "code",
   "execution_count": 16,
   "metadata": {
    "collapsed": false
   },
   "outputs": [
    {
     "data": {
      "text/plain": [
       "{'names': array(['sweet', 'sour', 'salty', 'bitter', 'umami'], \n",
       "       dtype='|S6'),\n",
       " 'ones': array([1, 1, 1, 1, 1]),\n",
       " 'weights': array([1, 1, 1, 1, 1]),\n",
       " 'zeros': array([0, 0, 0, 0, 0])}"
      ]
     },
     "execution_count": 16,
     "metadata": {},
     "output_type": "execute_result"
    }
   ],
   "source": [
    "person.taste.__dict__"
   ]
  },
  {
   "cell_type": "code",
   "execution_count": 17,
   "metadata": {
    "collapsed": false,
    "scrolled": false
   },
   "outputs": [
    {
     "name": "stdout",
     "output_type": "stream",
     "text": [
      "Offer Viewed\n",
      "666 18.242972973\n"
     ]
    }
   ],
   "source": [
    "offer_channel = Categorical(('web', 'email', 'mobile', 'social'), \n",
    "                            (1, 1, 1, 1))\n",
    "offer_type = Categorical(('bogo', 'discount', 'informational'), \n",
    "                         (0, 1, 0))\n",
    "\n",
    "discount = Offer(0, valid_from=10, valid_until=20, difficulty=10, reward=2, channel=offer_channel, type=offer_type)\n",
    "\n",
    "person_view_offer_sensitivity = Categorical(['background', \n",
    "                                             'offer_age',\n",
    "                                             'web','email','mobile', 'social'],\n",
    "                                            [g_inv(0.20) - 4, \n",
    "                                             -abs(g_inv(0.01)/float(1*24*30)), \n",
    "                                             0, 1, 1, 2])\n",
    "\n",
    "person_make_purchase_sensitivity = Categorical(['background', \n",
    "                                                'time_since_last_transaction',\n",
    "                                                'last_viewed_offer_strength',\n",
    "                                                'viewed_active_offer'],\n",
    "                                               [g_inv(1.0/16.0),\n",
    "                                                abs(g_inv(0.10)/float(1*24*30)),\n",
    "                                                1,\n",
    "                                                1])\n",
    "\n",
    "# background = mean trx amount\n",
    "# income_adjusted_purchase_sensitivity ~ scale: 1, base_range: 1 to 25 - adds to background \n",
    "# generally speaking this is very simple: mean spend is a linear funciton of the components\n",
    "# they're all normalized to the dollar and additive in effect\n",
    "\n",
    "person_purchase_amount_sensitivity = Categorical(['background',\n",
    "                                                  'income_adjusted_purchase_sensitivity',\n",
    "                                                  'front page',\n",
    "                                                  'local',\n",
    "                                                  'entertainment',\n",
    "                                                  'sports',\n",
    "                                                  'opinion',\n",
    "                                                  'comics',\n",
    "                                                  'sweet',\n",
    "                                                  'sour',\n",
    "                                                  'salty',\n",
    "                                                  'bitter',\n",
    "                                                  'umami'],\n",
    "                                                [1.00,\n",
    "                                                 1,\n",
    "                                                 0,\n",
    "                                                 0,\n",
    "                                                 0,\n",
    "                                                 1,\n",
    "                                                 0,\n",
    "                                                 0,\n",
    "                                                 0,\n",
    "                                                 1,\n",
    "                                                 1,\n",
    "                                                 0,\n",
    "                                                 0])\n",
    "\n",
    "person = Person(became_member_on='20170716',\n",
    "                income=50000,\n",
    "                view_offer_sensitivity=person_view_offer_sensitivity,\n",
    "                make_purchase_sensitivity=person_make_purchase_sensitivity,\n",
    "                purchase_amount_sensitivity=person_purchase_amount_sensitivity)\n",
    "person.last_viewed_offer = discount\n",
    "print 'Offer Viewed'\n",
    "\n",
    "world.world_time = 0\n",
    "\n",
    "\n",
    "history = list()\n",
    "for i in range(10000):\n",
    "    world.world_time = i\n",
    "    transaction = person.make_purchase(world)\n",
    "    if transaction:\n",
    "        history.append(transaction.amount)\n",
    "    else:\n",
    "        continue\n",
    "        \n",
    "print len(history), np.mean(history)"
   ]
  },
  {
   "cell_type": "code",
   "execution_count": 28,
   "metadata": {
    "collapsed": false,
    "scrolled": true
   },
   "outputs": [
    {
     "name": "stdout",
     "output_type": "stream",
     "text": [
      "('asctime', 'module', 'funcName', 'name', 'levelname', 'message')\n",
      "2017-07-17 08:05:04,105 | person | outlier_purchase_amount | root | DEBUG | Purchase amount decision at time t = 423\n",
      "2017-07-17 08:05:04,105 | person | outlier_purchase_amount | root | DEBUG |         beta = [ 1.  1.  0.  0.  0.  1.  0.  0.  0.  1.  1.  0.  0.]\n",
      "2017-07-17 08:05:04,105 | person | outlier_purchase_amount | root | DEBUG |            x = [  1.          11.66666667   1.           1.           1.           1.           1.\n",
      "2017-07-17 08:05:04,105 | person | outlier_purchase_amount | root | DEBUG |       beta*x = [  1.          11.66666667   0.           0.           0.           1.           0.\n",
      "2017-07-17 08:05:04,105 | person | outlier_purchase_amount | root | DEBUG | dot(beta, x) = 15.6666666667\n",
      "2017-07-17 08:05:04,105 | person | outlier_purchase_amount | root | DEBUG |         mean = 15.6666666667\n",
      "2017-07-17 08:05:04,105 | person | outlier_purchase_amount | root | DEBUG | Purcahse amount = 416.06\n",
      "2017-07-17 08:05:06,721 | person | outlier_purchase_amount | root | DEBUG | Purchase amount decision at time t = 1978\n",
      "2017-07-17 08:05:06,721 | person | outlier_purchase_amount | root | DEBUG |         beta = [ 1.  1.  0.  0.  0.  1.  0.  0.  0.  1.  1.  0.  0.]\n",
      "2017-07-17 08:05:06,721 | person | outlier_purchase_amount | root | DEBUG |            x = [  1.          11.66666667   1.           1.           1.           1.           1.\n",
      "2017-07-17 08:05:06,721 | person | outlier_purchase_amount | root | DEBUG |       beta*x = [  1.          11.66666667   0.           0.           0.           1.           0.\n",
      "2017-07-17 08:05:06,721 | person | outlier_purchase_amount | root | DEBUG | dot(beta, x) = 15.6666666667\n",
      "2017-07-17 08:05:06,721 | person | outlier_purchase_amount | root | DEBUG |         mean = 15.6666666667\n",
      "2017-07-17 08:05:06,721 | person | outlier_purchase_amount | root | DEBUG | Purcahse amount = 337.66\n",
      "2017-07-17 08:05:07,559 | person | outlier_purchase_amount | root | DEBUG | Purchase amount decision at time t = 2514\n",
      "2017-07-17 08:05:07,559 | person | outlier_purchase_amount | root | DEBUG |         beta = [ 1.  1.  0.  0.  0.  1.  0.  0.  0.  1.  1.  0.  0.]\n",
      "2017-07-17 08:05:07,559 | person | outlier_purchase_amount | root | DEBUG |            x = [  1.          11.66666667   1.           1.           1.           1.           1.\n",
      "2017-07-17 08:05:07,559 | person | outlier_purchase_amount | root | DEBUG |       beta*x = [  1.          11.66666667   0.           0.           0.           1.           0.\n",
      "2017-07-17 08:05:07,559 | person | outlier_purchase_amount | root | DEBUG | dot(beta, x) = 15.6666666667\n",
      "2017-07-17 08:05:07,559 | person | outlier_purchase_amount | root | DEBUG |         mean = 15.6666666667\n",
      "2017-07-17 08:05:07,559 | person | outlier_purchase_amount | root | DEBUG | Purcahse amount = 527.06\n",
      "2017-07-17 08:05:18,926 | person | outlier_purchase_amount | root | DEBUG | Purchase amount decision at time t = 9837\n",
      "2017-07-17 08:05:18,926 | person | outlier_purchase_amount | root | DEBUG |         beta = [ 1.  1.  0.  0.  0.  1.  0.  0.  0.  1.  1.  0.  0.]\n",
      "2017-07-17 08:05:18,926 | person | outlier_purchase_amount | root | DEBUG |            x = [  1.          11.66666667   1.           1.           1.           1.           1.\n",
      "2017-07-17 08:05:18,926 | person | outlier_purchase_amount | root | DEBUG |       beta*x = [  1.          11.66666667   0.           0.           0.           1.           0.\n",
      "2017-07-17 08:05:18,926 | person | outlier_purchase_amount | root | DEBUG | dot(beta, x) = 15.6666666667\n",
      "2017-07-17 08:05:18,926 | person | outlier_purchase_amount | root | DEBUG |         mean = 15.6666666667\n",
      "2017-07-17 08:05:18,926 | person | outlier_purchase_amount | root | DEBUG | Purcahse amount = 563.04\n"
     ]
    }
   ],
   "source": [
    "print log_fields\n",
    "print_log(log_file_name, log_fields, ('funcName', 'outlier_purchase_amount'))"
   ]
  },
  {
   "cell_type": "code",
   "execution_count": null,
   "metadata": {
    "collapsed": false
   },
   "outputs": [],
   "source": [
    "g(-3.708 + 1)"
   ]
  },
  {
   "cell_type": "code",
   "execution_count": null,
   "metadata": {
    "collapsed": false
   },
   "outputs": [],
   "source": [
    "1.0/16.0"
   ]
  },
  {
   "cell_type": "code",
   "execution_count": null,
   "metadata": {
    "collapsed": false
   },
   "outputs": [],
   "source": [
    "g_inv(0.01)/float(1*24*30)"
   ]
  },
  {
   "cell_type": "code",
   "execution_count": 41,
   "metadata": {
    "collapsed": false
   },
   "outputs": [
    {
     "data": {
      "image/png": "[encoded data removed]",
      "text/plain": [
       "<matplotlib.figure.Figure at 0xb8075f8>"
      ]
     },
     "metadata": {},
     "output_type": "display_data"
    },
    {
     "data": {
      "image/png": "[encoded data removed]",
      "text/plain": [
       "<matplotlib.figure.Figure at 0x979e518>"
      ]
     },
     "metadata": {},
     "output_type": "display_data"
    },
    {
     "data": {
      "image/png": "[encoded data removed]",
      "text/plain": [
       "<matplotlib.figure.Figure at 0xb534080>"
      ]
     },
     "metadata": {},
     "output_type": "display_data"
    },
    {
     "data": {
      "image/png": "[encoded data removed]",
      "text/plain": [
       "<matplotlib.figure.Figure at 0x9aacbe0>"
      ]
     },
     "metadata": {},
     "output_type": "display_data"
    },
    {
     "data": {
      "image/png": "[encoded data removed]",
      "text/plain": [
       "<matplotlib.figure.Figure at 0xb292a90>"
      ]
     },
     "metadata": {},
     "output_type": "display_data"
    },
    {
     "data": {
      "image/png": "[encoded data removed]",
      "text/plain": [
       "<matplotlib.figure.Figure at 0xb51f1d0>"
      ]
     },
     "metadata": {},
     "output_type": "display_data"
    },
    {
     "data": {
      "image/png": "[encoded data removed]",
      "text/plain": [
       "<matplotlib.figure.Figure at 0xa160c18>"
      ]
     },
     "metadata": {},
     "output_type": "display_data"
    },
    {
     "data": {
      "image/png": "[encoded data removed]",
      "text/plain": [
       "<matplotlib.figure.Figure at 0xa4e3b38>"
      ]
     },
     "metadata": {},
     "output_type": "display_data"
    },
    {
     "data": {
      "image/png": "[encoded data removed]",
      "text/plain": [
       "<matplotlib.figure.Figure at 0x9ced358>"
      ]
     },
     "metadata": {},
     "output_type": "display_data"
    }
   ],
   "source": [
    "from collections import Counter\n",
    "\n",
    "for lam in range(365*1, 365*1 + 1, 1000):\n",
    "    size = 10000\n",
    "    sample = np.random.poisson(lam, size)\n",
    "\n",
    "    h = Counter(sample)\n",
    "\n",
    "    x = range(8500, max(h))\n",
    "    y = [h.get(xi, 0) for xi in x]\n",
    "\n",
    "    plt.plot(x, y, 'o')\n",
    "    plt.show()"
   ]
  },
  {
   "cell_type": "code",
   "execution_count": 40,
   "metadata": {
    "collapsed": false
   },
   "outputs": [
    {
     "data": {
      "text/plain": [
       "'19920724'"
      ]
     },
     "execution_count": 40,
     "metadata": {},
     "output_type": "execute_result"
    }
   ],
   "source": [
    "from datetime import datetime, timedelta\n",
    "\n",
    "dt_fmt = '%Y%m%d'\n",
    "now = datetime.strptime('20170718', dt_fmt)\n",
    "\n",
    "(now - timedelta(days=365*25)).strftime(dt_fmt)"
   ]
  }
 ],
 "metadata": {
  "anaconda-cloud": {},
  "kernelspec": {
   "display_name": "Python [conda_venv]",
   "language": "python",
   "name": "Python [conda_venv]"
  },
  "language_info": {
   "codemirror_mode": {
    "name": "ipython",
    "version": 2
   },
   "file_extension": ".py",
   "mimetype": "text/x-python",
   "name": "python",
   "nbconvert_exporter": "python",
   "pygments_lexer": "ipython2",
   "version": "2.7.12"
  }
 },
 "nbformat": 4,
 "nbformat_minor": 0
}
